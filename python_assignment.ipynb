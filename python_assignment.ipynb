{
  "nbformat": 4,
  "nbformat_minor": 0,
  "metadata": {
    "colab": {
      "name": "python_assignment.ipynb",
      "provenance": []
    },
    "kernelspec": {
      "name": "python3",
      "display_name": "Python 3"
    }
  },
  "cells": [
    {
      "cell_type": "markdown",
      "metadata": {
        "id": "PpIZdpy-ff-C",
        "colab_type": "text"
      },
      "source": [
        "**PYTHON ASSIGNMENT**\n",
        "\n",
        "**Program 1**\n",
        "\n",
        "Write a short program that prints the numbers 1 to 10 using a for loop.\n",
        "Then write an equivalent program that prints the numbers 1 to 10 using a while loop"
      ]
    },
    {
      "cell_type": "code",
      "metadata": {
        "id": "BxzvVb7_ffrX",
        "colab_type": "code",
        "colab": {
          "base_uri": "https://localhost:8080/",
          "height": 185
        },
        "outputId": "69cf00ff-a012-4448-ef81-638033f8f3b7"
      },
      "source": [
        "for i in range(1,11):\n",
        "    if i% 1==10: \n",
        "         continue \n",
        "    print(i)"
      ],
      "execution_count": 7,
      "outputs": [
        {
          "output_type": "stream",
          "text": [
            "1\n",
            "2\n",
            "3\n",
            "4\n",
            "5\n",
            "6\n",
            "7\n",
            "8\n",
            "9\n",
            "10\n"
          ],
          "name": "stdout"
        }
      ]
    },
    {
      "cell_type": "code",
      "metadata": {
        "id": "OnfakHREffVW",
        "colab_type": "code",
        "colab": {
          "base_uri": "https://localhost:8080/",
          "height": 185
        },
        "outputId": "5245aa2a-fe3e-4e5f-f4b4-456f032eb3e5"
      },
      "source": [
        "input = 1 \n",
        "while input <= 10:\n",
        "    print(input)\n",
        "    input += 1"
      ],
      "execution_count": 8,
      "outputs": [
        {
          "output_type": "stream",
          "text": [
            "1\n",
            "2\n",
            "3\n",
            "4\n",
            "5\n",
            "6\n",
            "7\n",
            "8\n",
            "9\n",
            "10\n"
          ],
          "name": "stdout"
        }
      ]
    },
    {
      "cell_type": "markdown",
      "metadata": {
        "id": "CSIWkCzue1w1",
        "colab_type": "text"
      },
      "source": [
        "**Program 2**\n",
        "\n",
        "Write a function to calculate your age ( input : Date of birth )"
      ]
    },
    {
      "cell_type": "code",
      "metadata": {
        "id": "KGuH7n-IerDM",
        "colab_type": "code",
        "colab": {}
      },
      "source": [
        "def age():\n",
        "    birth_date = input(\"Enter your date of birth in 'DD-MM-YYYY' format: \")\n",
        "    bday, bmonth, byear = int(birth_date[:2]), int(birth_date[3:5]), int(birth_date[6:])\n",
        "    today = input(\"Enter today's date in 'DD-MM-YYYY' format: \")\n",
        "    tday, tmonth, tyear = int(today[:2]), int(today[3:5]), int(today[6:])\n",
        "    \n",
        "    age = tyear - byear -1\n",
        "    if tmonth > bmonth:\n",
        "        age += 1\n",
        "    if tmonth == bmonth:\n",
        "        if tday >= bday:\n",
        "            age += 1\n",
        "    \n",
        "    print(f\"You are {age} years old\")"
      ],
      "execution_count": 5,
      "outputs": []
    },
    {
      "cell_type": "code",
      "metadata": {
        "id": "q_DkRSLUfNE2",
        "colab_type": "code",
        "colab": {
          "base_uri": "https://localhost:8080/",
          "height": 67
        },
        "outputId": "0d0c45cf-cabb-4948-d9bc-144c2e297170"
      },
      "source": [
        "# Driver code\n",
        "age()"
      ],
      "execution_count": 6,
      "outputs": [
        {
          "output_type": "stream",
          "text": [
            "Enter your date of birth in 'DD-MM-YYYY' format: 16-09-2000\n",
            "Enter today's date in 'DD-MM-YYYY' format: 24-09-2020\n",
            "You are 20 years old\n"
          ],
          "name": "stdout"
        }
      ]
    },
    {
      "cell_type": "markdown",
      "metadata": {
        "id": "A7a1Ye9pfxj1",
        "colab_type": "text"
      },
      "source": [
        "**Program 3**\n",
        "\n",
        "Write a program to check whether given string is palindrome or not ( don't use built in function)"
      ]
    },
    {
      "cell_type": "code",
      "metadata": {
        "id": "ne98xePUf5yI",
        "colab_type": "code",
        "colab": {
          "base_uri": "https://localhost:8080/",
          "height": 34
        },
        "outputId": "fd63d30e-08f6-41de-f58d-982eca507ed2"
      },
      "source": [
        "def isPalindrome(s): # 3 question in assignment\n",
        "    return s == s[::-1]\n",
        " \n",
        "\n",
        "s = \"chiranth\"\n",
        "ans = isPalindrome(s)\n",
        " \n",
        "if ans:\n",
        "    print(\"no\")\n",
        "else:\n",
        "    print(\"yes\")"
      ],
      "execution_count": 9,
      "outputs": [
        {
          "output_type": "stream",
          "text": [
            "yes\n"
          ],
          "name": "stdout"
        }
      ]
    }
  ]
}