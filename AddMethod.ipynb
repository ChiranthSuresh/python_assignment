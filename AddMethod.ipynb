{
  "nbformat": 4,
  "nbformat_minor": 0,
  "metadata": {
    "colab": {
      "name": "AddMethod.ipynb",
      "provenance": []
    },
    "kernelspec": {
      "name": "python3",
      "display_name": "Python 3"
    }
  },
  "cells": [
    {
      "cell_type": "code",
      "metadata": {
        "id": "tz5MfiisZjic"
      },
      "source": [
        "class point:\r\n",
        "  def __init__(self,x,y):\r\n",
        "      self.x = x\r\n",
        "      self.y = y\r\n",
        "  def __str__(self):\r\n",
        "    return('point(' +str(self.x) + ',' + str(self.y) +')')\r\n",
        "  def __add__(self, other):\r\n",
        "    if isinstance(other,point):\r\n",
        "      x1 = self.x + other.x\r\n",
        "      y1 = self.y + other.y\r\n",
        "    elif isinstance(other,tuple):\r\n",
        "      x1 = self.x + other[0]\r\n",
        "      y1 = self.y + other[1]\r\n",
        "    print(point(x1,y1))          "
      ],
      "execution_count": 2,
      "outputs": []
    },
    {
      "cell_type": "code",
      "metadata": {
        "id": "tYM2NHbCbBYY"
      },
      "source": [
        "p1 = point(6,5)\r\n",
        "p2 = point(5,4)\r\n",
        "p3 = (3,2)"
      ],
      "execution_count": 3,
      "outputs": []
    },
    {
      "cell_type": "code",
      "metadata": {
        "colab": {
          "base_uri": "https://localhost:8080/"
        },
        "id": "BKgtBZyMbZRT",
        "outputId": "c60e04e2-2d1f-46d1-c558-8fe17a554c59"
      },
      "source": [
        "p1 + p2"
      ],
      "execution_count": 5,
      "outputs": [
        {
          "output_type": "stream",
          "text": [
            "point(11,9)\n"
          ],
          "name": "stdout"
        }
      ]
    },
    {
      "cell_type": "code",
      "metadata": {
        "colab": {
          "base_uri": "https://localhost:8080/"
        },
        "id": "oabgQ-IAbeUC",
        "outputId": "7b4bf642-52ad-4985-9b98-e1cd4a9d58b6"
      },
      "source": [
        "p1 + p3"
      ],
      "execution_count": 6,
      "outputs": [
        {
          "output_type": "stream",
          "text": [
            "point(9,7)\n"
          ],
          "name": "stdout"
        }
      ]
    },
    {
      "cell_type": "code",
      "metadata": {
        "colab": {
          "base_uri": "https://localhost:8080/"
        },
        "id": "375L1ax4bjjT",
        "outputId": "bedd4d3c-bf05-4e95-ac46-5c14ac7f859d"
      },
      "source": [
        "p2 + p3"
      ],
      "execution_count": 7,
      "outputs": [
        {
          "output_type": "stream",
          "text": [
            "point(8,6)\n"
          ],
          "name": "stdout"
        }
      ]
    }
  ]
}