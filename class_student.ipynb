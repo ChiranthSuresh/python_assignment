{
  "nbformat": 4,
  "nbformat_minor": 0,
  "metadata": {
    "colab": {
      "name": "class student.ipynb",
      "provenance": []
    },
    "kernelspec": {
      "name": "python3",
      "display_name": "Python 3"
    }
  },
  "cells": [
    {
      "cell_type": "code",
      "metadata": {
        "id": "O6UcXjkPXZU9"
      },
      "source": [
        "class student:\r\n",
        "    \r\n",
        "    def __init__(self, NAME, USN, M1, M2, M3):\r\n",
        "        self.NAME = NAME\r\n",
        "        self.USN = USN\r\n",
        "        self.M1 = M1\r\n",
        "        self.M2 = M2\r\n",
        "        self.M3 = M3\r\n",
        "        \r\n",
        "    def __str__(self):\r\n",
        "        return f\"Name: {self.NAME} \\nUSN: {self.USN} \\nSubject 1 marks: {self.M1} \\nSubject 2 marks: {self.M2} \\nSubject 3 marks: {self.M3} \\n\"\r\n",
        "    \r\n",
        "    def increment_marks(self, bonus=10):\r\n",
        "        self.M1 += bonus/100 * self.M1\r\n",
        "        self.M2 += bonus/100 * self.M2\r\n",
        "        self.M3 += bonus/100 * self.M3\r\n",
        "        if self.M1 > 100:\r\n",
        "            self.M1 = 100\r\n",
        "        if self.M2 > 100:\r\n",
        "            self.M2 = 100\r\n",
        "        if self.M3 > 100:\r\n",
        "            self.M3 = 100\r\n",
        "        \r\n",
        "    def percentage(self):\r\n",
        "        avg = (self.M1 + self.M2 + self.M3) / 3\r\n",
        "        print(f\"Percentage: {round(avg, 2)}\")"
      ],
      "execution_count": 1,
      "outputs": []
    },
    {
      "cell_type": "code",
      "metadata": {
        "colab": {
          "base_uri": "https://localhost:8080/"
        },
        "id": "twk85x97X9LC",
        "outputId": "bbee5345-2875-4217-bf68-1aa9f82de3e4"
      },
      "source": [
        "BOB = student(\"CHIRANTH\", \"4VV18CS030\", 88, 87, 95)\r\n",
        "print(BOB)"
      ],
      "execution_count": 2,
      "outputs": [
        {
          "output_type": "stream",
          "text": [
            "Name: CHIRANTH \n",
            "USN: 4VV18CS030 \n",
            "Subject 1 marks: 88 \n",
            "Subject 2 marks: 87 \n",
            "Subject 3 marks: 95 \n",
            "\n"
          ],
          "name": "stdout"
        }
      ]
    },
    {
      "cell_type": "code",
      "metadata": {
        "colab": {
          "base_uri": "https://localhost:8080/"
        },
        "id": "029SbjLmYIIE",
        "outputId": "040e6848-fb94-48b8-b917-23de9e4619c8"
      },
      "source": [
        "BOB.percentage()"
      ],
      "execution_count": 3,
      "outputs": [
        {
          "output_type": "stream",
          "text": [
            "Percentage: 90.0\n"
          ],
          "name": "stdout"
        }
      ]
    },
    {
      "cell_type": "code",
      "metadata": {
        "colab": {
          "base_uri": "https://localhost:8080/"
        },
        "id": "JObe_wsTYO9x",
        "outputId": "52e658e4-bec3-4891-cb37-376b0ba6026a"
      },
      "source": [
        "BOB.increment_marks(5)\r\n",
        "print(BOB)"
      ],
      "execution_count": 4,
      "outputs": [
        {
          "output_type": "stream",
          "text": [
            "Name: CHIRANTH \n",
            "USN: 4VV18CS030 \n",
            "Subject 1 marks: 92.4 \n",
            "Subject 2 marks: 91.35 \n",
            "Subject 3 marks: 99.75 \n",
            "\n"
          ],
          "name": "stdout"
        }
      ]
    },
    {
      "cell_type": "code",
      "metadata": {
        "colab": {
          "base_uri": "https://localhost:8080/"
        },
        "id": "ASOATfmIYyBi",
        "outputId": "569ac114-4c57-46b0-fa41-c83d9d1b35cd"
      },
      "source": [
        "BOB.increment_marks(1)\r\n",
        "print(BOB)"
      ],
      "execution_count": 5,
      "outputs": [
        {
          "output_type": "stream",
          "text": [
            "Name: CHIRANTH \n",
            "USN: 4VV18CS030 \n",
            "Subject 1 marks: 93.32400000000001 \n",
            "Subject 2 marks: 92.2635 \n",
            "Subject 3 marks: 100 \n",
            "\n"
          ],
          "name": "stdout"
        }
      ]
    },
    {
      "cell_type": "code",
      "metadata": {
        "colab": {
          "base_uri": "https://localhost:8080/"
        },
        "id": "wqSrEj33Y3d-",
        "outputId": "d675fef3-40e6-44c1-865a-fae90f53b69b"
      },
      "source": [
        "BOB.percentage()"
      ],
      "execution_count": 6,
      "outputs": [
        {
          "output_type": "stream",
          "text": [
            "Percentage: 95.2\n"
          ],
          "name": "stdout"
        }
      ]
    }
  ]
}