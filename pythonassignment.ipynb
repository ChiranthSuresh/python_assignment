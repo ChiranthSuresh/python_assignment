{
  "nbformat": 4,
  "nbformat_minor": 0,
  "metadata": {
    "colab": {
      "name": "pythonassignment.ipynb",
      "provenance": []
    },
    "kernelspec": {
      "name": "python3",
      "display_name": "Python 3"
    }
  },
  "cells": [
    {
      "cell_type": "markdown",
      "metadata": {
        "id": "ov5hfgDMhZRF",
        "colab_type": "text"
      },
      "source": [
        "**Program 5**\n",
        "\n",
        "Write a function to calculate the discount amount on a sale \n",
        "\n",
        "Example :\n",
        "    If purchase amount is >5000 discount percentage is 40%.\n",
        "    If Purchase amount is >2000 discount percentage is 20%."
      ]
    },
    {
      "cell_type": "code",
      "metadata": {
        "id": "jRPAoQnWg5rA",
        "colab_type": "code",
        "colab": {}
      },
      "source": [
        "def discount():\n",
        "    discount = 0\n",
        "    amount = int(input(\"Enter the purchase amount: \"))\n",
        "    if amount > 5000:\n",
        "        discount = 0.4\n",
        "    elif amount > 2000:\n",
        "        discount = 0.2\n",
        "    bill = amount - amount*discount\n",
        "    print(f\"Actual amount: {amount}\")\n",
        "    print(\"Bill after discount: {0:.2f}\".format(bill))\n",
        "    print(\"Total savings: {0:.2f}\".format(amount*discount))"
      ],
      "execution_count": 1,
      "outputs": []
    },
    {
      "cell_type": "code",
      "metadata": {
        "id": "Lf-U05yWhQzb",
        "colab_type": "code",
        "colab": {
          "base_uri": "https://localhost:8080/",
          "height": 84
        },
        "outputId": "18a91be6-0847-4485-fa3d-937632455256"
      },
      "source": [
        "# Driver code\n",
        "discount()"
      ],
      "execution_count": 2,
      "outputs": [
        {
          "output_type": "stream",
          "text": [
            "Enter the purchase amount: 5000\n",
            "Actual amount: 5000\n",
            "Bill after discount: 4000.00\n",
            "Total savings: 1000.00\n"
          ],
          "name": "stdout"
        }
      ]
    }
  ]
}